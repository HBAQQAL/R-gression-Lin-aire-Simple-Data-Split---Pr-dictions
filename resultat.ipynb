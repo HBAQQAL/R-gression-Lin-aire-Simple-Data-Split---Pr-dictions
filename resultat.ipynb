{
 "cells": [
  {
   "cell_type": "code",
   "execution_count": 3,
   "metadata": {},
   "outputs": [
    {
     "name": "stdout",
     "output_type": "stream",
     "text": [
      "              PROPS                  TV                RADIO  \\\n",
      "0   COEIF DET TRAIN  0.8301074677164854  0.09985909127123294   \n",
      "1    COEIF DET TEST  0.8072978382516638  0.07734848998624944   \n",
      "2        CURELATION            0.898498             0.389913   \n",
      "\n",
      "              NEWSPAPER  \n",
      "0  0.009378694769935914  \n",
      "1  0.009378694769935914  \n",
      "2              0.096873  \n"
     ]
    }
   ],
   "source": [
    "# create a table with 4 rows and 4 columns\n",
    "import pandas as pd\n",
    "\n",
    "data = {\n",
    "    'Column1': ['', 'TV', 'RADIO', 'NEWSPAPER'],\n",
    "    'COEIF DET TRAIN': [\"\",'0.8301074677164854', '0.09985909127123294', '0.009378694769935914'],\n",
    "    'COEIF DET TEST': [\"\", \"0.8072978382516638\" , \"0.07734848998624944\" , \"0.009378694769935914\"],\n",
    "    'CURELATION': ['', ' 0.898498', '0.389913', '0.096873'],\n",
    "}\n",
    "data2 = {\n",
    "    \"PROPS\" : [ \" COEIF DET TRAIN\", \"COEIF DET TEST\", \"CURELATION\"],\n",
    "    \"TV\" : [\"0.8301074677164854\", \"0.8072978382516638\", \"0.898498\"],\n",
    "    \"RADIO\": [\"0.09985909127123294\", \"0.07734848998624944\", \"0.389913\"],\n",
    "    \"NEWSPAPER\": [\"0.009378694769935914\", \"0.009378694769935914\", \"0.096873\"],\n",
    "}\n",
    "\n",
    "df = pd.DataFrame(data2)\n",
    "\n",
    "print(df)"
   ]
  }
 ],
 "metadata": {
  "kernelspec": {
   "display_name": "Python 3",
   "language": "python",
   "name": "python3"
  },
  "language_info": {
   "codemirror_mode": {
    "name": "ipython",
    "version": 3
   },
   "file_extension": ".py",
   "mimetype": "text/x-python",
   "name": "python",
   "nbconvert_exporter": "python",
   "pygments_lexer": "ipython3",
   "version": "3.12.0"
  }
 },
 "nbformat": 4,
 "nbformat_minor": 2
}
